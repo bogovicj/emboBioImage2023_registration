{
 "cells": [
  {
   "cell_type": "markdown",
   "id": "25ccf40d",
   "metadata": {},
   "source": [
    "Multi-resolution registration example\n",
    "\n",
    "# Working with big data\n",
    "\n",
    "## Strategy 1 - downsample\n",
    "\n",
    "Registration algorithms can be expensive, but will be much faster if working on lower resolution images."
   ]
  },
  {
   "cell_type": "code",
   "execution_count": null,
   "id": "a1de4cdb",
   "metadata": {},
   "outputs": [],
   "source": [
    "import os\n",
    "from itertools import chain\n",
    "import numpy as np\n",
    "\n",
    "import SimpleITK as sitk\n",
    "\n",
    "def run_elastix(fixed_image, moving_image, params):\n",
    "    elastixImageFilter = sitk.ElastixImageFilter()\n",
    "    elastixImageFilter.SetFixedImage(fixed_image)\n",
    "    elastixImageFilter.SetMovingImage(moving_image)\n",
    "    elastixImageFilter.SetParameterMap(params)\n",
    "    elastixImageFilter.Execute()\n",
    "    return elastixImageFilter\n",
    "\n",
    "def print_parameters(elastix_parameters):\n",
    "    for k,v in elastix_parameters.iteritems():\n",
    "        print(f'{k} \\n\\t {v}')"
   ]
  },
  {
   "cell_type": "code",
   "execution_count": null,
   "id": "70b67601",
   "metadata": {},
   "outputs": [],
   "source": [
    "# load fixed image\n",
    "fixed_image_path='sampleImages/jrc18_down.nrrd'\n",
    "fixed_image = sitk.ReadImage(fixed_image_path)\n",
    "fixed_image"
   ]
  },
  {
   "cell_type": "code",
   "execution_count": null,
   "id": "86ea84f1",
   "metadata": {},
   "outputs": [],
   "source": [
    "# load moving image\n",
    "moving_image_path = 'sampleImages/jrc10_down.nrrd'\n",
    "moving_image = sitk.ReadImage(moving_image_path)\n",
    "moving_image"
   ]
  },
  {
   "cell_type": "code",
   "execution_count": null,
   "id": "99d7a3a1",
   "metadata": {},
   "outputs": [],
   "source": [
    "# run a simple registration\n",
    "affine_params = sitk.ReadParameterFile('elastixParameters/DefaultSmoother_Affine.txt')\n",
    "elastixImageFilter = run_elastix(fixed_image, moving_image, affine_params ) \n",
    "sitk.WriteImage(elastixImageFilter.GetResultImage(), 'affine_result_img.nrrd')"
   ]
  },
  {
   "cell_type": "code",
   "execution_count": null,
   "id": "0f740338",
   "metadata": {},
   "outputs": [],
   "source": [
    "# print the output\n",
    "transformParameterMap = elastixImageFilter.GetTransformParameterMap()\n",
    "print_parameters(transformParameterMap[0])"
   ]
  },
  {
   "cell_type": "code",
   "execution_count": null,
   "id": "f537b744",
   "metadata": {},
   "outputs": [],
   "source": [
    "moving_image_hi_path = 'sampleImages/JFRCtemplate2010.nrrd'\n",
    "moving_image_hi = sitk.ReadImage(moving_image_hi_path)\n",
    "moving_image_hi"
   ]
  },
  {
   "cell_type": "code",
   "execution_count": null,
   "id": "fa371766",
   "metadata": {},
   "outputs": [],
   "source": [
    "# We want to create an image at higher resolution\n",
    "\n",
    "transformParameterMap[0]['Size'] = ['1652', '768', '479']\n",
    "transformParameterMap[0]['Spacing'] = ['0.38', '0.38', '0.38']\n",
    "\n",
    "transformixImageFilter = sitk.TransformixImageFilter()\n",
    "transformixImageFilter.SetTransformParameterMap(transformParameterMap)\n",
    "transformixImageFilter.SetMovingImage(moving_image_hi)\n",
    "transformixImageFilter.Execute()\n",
    "sitk.WriteImage(transformixImageFilter.GetResultImage(), 'affine_result_hires_img.nrrd')"
   ]
  }
 ],
 "metadata": {
  "kernelspec": {
   "display_name": "Python 3 (ipykernel)",
   "language": "python",
   "name": "python3"
  },
  "language_info": {
   "codemirror_mode": {
    "name": "ipython",
    "version": 3
   },
   "file_extension": ".py",
   "mimetype": "text/x-python",
   "name": "python",
   "nbconvert_exporter": "python",
   "pygments_lexer": "ipython3",
   "version": "3.10.12"
  }
 },
 "nbformat": 4,
 "nbformat_minor": 5
}
