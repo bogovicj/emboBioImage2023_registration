{
 "cells": [
  {
   "cell_type": "markdown",
   "id": "6a805a48",
   "metadata": {},
   "source": [
    "# Similarity metrics for registration\n",
    "\n",
    "Here, we will learn about similarity metrics.\n",
    "\n",
    "Specifically, we will compare two popular metrics: \n",
    "\n",
    "* [Mean squared error (MSE)](https://en.wikipedia.org/wiki/Mean_squared_error#Predictor)\n",
    "* [Normalized mutual information (NMI)](https://en.wikipedia.org/wiki/Mutual_information#Normalized_variants)\n",
    "\n",
    "In this example, we'll first observes that MSE fails, and then understand why it fails. Then observe that using NMI succeeds, and understand why that is the case.\n",
    "\n",
    "First, let's import libraries and make some useful functions:"
   ]
  },
  {
   "cell_type": "code",
   "execution_count": null,
   "id": "ee899ad9",
   "metadata": {},
   "outputs": [],
   "source": [
    "import numpy as np\n",
    "import SimpleITK as sitk\n",
    "\n",
    "import itkwidgets\n",
    "from itkwidgets import view\n",
    "\n",
    "%matplotlib inline\n",
    "import matplotlib.pyplot as plt\n",
    "\n",
    "def compare_overlay(moving, fixed):\n",
    "    farr = sitk.GetArrayFromImage(fixed).astype(np.float32)\n",
    "    rarr = sitk.GetArrayFromImage(moving).astype(np.float32)\n",
    "\n",
    "    plt.figure()\n",
    "    plt.imshow(farr, 'gray', interpolation='none', alpha=0.8)\n",
    "    plt.imshow(rarr, 'winter', interpolation='none', alpha=0.5)\n",
    "    \n",
    "def run_elastix(fixed_image, moving_image, params):\n",
    "    \"\"\"\n",
    "    Runs elastix with the given fixed and moving images,\n",
    "    and elastix parameters.\n",
    "    \n",
    "    Returns the ElastixImageFilter, from which the results\n",
    "    can be obtained.\n",
    "    \"\"\"\n",
    "    elastixImageFilter = sitk.ElastixImageFilter()\n",
    "    elastixImageFilter.SetFixedImage(fixed_image)\n",
    "    elastixImageFilter.SetMovingImage(moving_image)\n",
    "    elastixImageFilter.SetParameterMap(params)\n",
    "    elastixImageFilter.Execute()\n",
    "    return elastixImageFilter"
   ]
  },
  {
   "cell_type": "markdown",
   "id": "56f3f0d2",
   "metadata": {},
   "source": [
    "Read the example images and visualize them in three different ways:"
   ]
  },
  {
   "cell_type": "code",
   "execution_count": null,
   "id": "98bf34de",
   "metadata": {},
   "outputs": [],
   "source": [
    "movingImage = sitk.ReadImage('../sampleImages/ct_2d_moving.tif')\n",
    "fixedImage  = sitk.ReadImage('../sampleImages/mri_2d.tif')"
   ]
  },
  {
   "cell_type": "markdown",
   "id": "b04172c7",
   "metadata": {},
   "source": [
    "First we'll simply visualize the images side-by-side, with `itkwidgets` as we did in the `translation_initialization` notebook.\n",
    "\n",
    "The CT image (moving) is on the left, and the MR image (fixed) is on the right. Notice:\n",
    "\n",
    "* Features of the brain are visible in the MR but not the CT\n",
    "* The skull is bright in the CT but dark in the MR."
   ]
  },
  {
   "cell_type": "code",
   "execution_count": null,
   "id": "18ce9950",
   "metadata": {},
   "outputs": [],
   "source": [
    "itkwidgets.compare(movingImage,fixedImage)"
   ]
  },
  {
   "cell_type": "markdown",
   "id": "07e8d217",
   "metadata": {},
   "source": [
    "Next we'll use the \"checkerboard\" visualization that comes with `itkwidgets`.  Try changing the `pattern` parameter to 12, for example."
   ]
  },
  {
   "cell_type": "code",
   "execution_count": null,
   "id": "15c78773",
   "metadata": {
    "scrolled": true
   },
   "outputs": [],
   "source": [
    "itkwidgets.checkerboard(movingImage,fixedImage, pattern=12)"
   ]
  },
  {
   "cell_type": "markdown",
   "id": "4de4fcaf",
   "metadata": {},
   "source": [
    "Last, let's overlay the images using the function defined above.\n",
    "\n",
    "The main point is that the images are not currently well aligned."
   ]
  },
  {
   "cell_type": "code",
   "execution_count": null,
   "id": "7a8696eb",
   "metadata": {},
   "outputs": [],
   "source": [
    "compare_overlay(movingImage, fixedImage)"
   ]
  },
  {
   "cell_type": "markdown",
   "id": "b418c588",
   "metadata": {},
   "source": [
    "Let's load a set of elastix parameters from a file."
   ]
  },
  {
   "cell_type": "code",
   "execution_count": null,
   "id": "db584b8a",
   "metadata": {},
   "outputs": [],
   "source": [
    "params_mse = sitk.ReadParameterFile('../elastixParameters/AffineMSE_2d.txt')\n",
    "sitk.PrintParameterMap( params_mse )"
   ]
  },
  {
   "cell_type": "markdown",
   "id": "d879901f",
   "metadata": {},
   "source": [
    "Notice the line `(Metric \"AdvancedMeanSquares\")`, indicating that elastix will use mean squared error. The [documentation](https://elastix.lumc.nl/doxygen/classelastix_1_1AdvancedMeanSquaresMetric.html).\n",
    "\n",
    "Now, run elastix with these parameters, and visualize the results by overlaying the images."
   ]
  },
  {
   "cell_type": "code",
   "execution_count": null,
   "id": "f70fb80b",
   "metadata": {},
   "outputs": [],
   "source": [
    "elastix_mse = run_elastix(fixedImage, movingImage, params_mse)\n",
    "result_mse = elastix_mse.GetResultImage()"
   ]
  },
  {
   "cell_type": "code",
   "execution_count": null,
   "id": "268abd17",
   "metadata": {
    "scrolled": true
   },
   "outputs": [],
   "source": [
    "compare_overlay(result_mse, fixedImage)"
   ]
  },
  {
   "cell_type": "code",
   "execution_count": 1,
   "id": "df18a8a2",
   "metadata": {},
   "outputs": [],
   "source": [
    "import os"
   ]
  },
  {
   "cell_type": "code",
   "execution_count": 5,
   "id": "537e015b",
   "metadata": {},
   "outputs": [
    {
     "data": {
      "text/plain": [
       "['tutfigs',\n",
       " 'MIPlot.R',\n",
       " 'mi.pdf',\n",
       " 'transforms',\n",
       " 'MSEPlot.R',\n",
       " 'transformationTypes.png',\n",
       " 'cor.pdf',\n",
       " 'imgRegFig_v2.pdf',\n",
       " 'ItkImageGeometry.png',\n",
       " 'mse.pdf',\n",
       " 'imgRegFig-3.pdf',\n",
       " 'cor.png',\n",
       " 'elastixLogo.png',\n",
       " 'imgRegFig_v2-3.pdf',\n",
       " 'mse1.png',\n",
       " 'imgRegFig_v2-1.pdf',\n",
       " 'imgRegFig_v2-2.pdf',\n",
       " 'imgRegFig_v2-4.pdf',\n",
       " 'emboBiaCourse2023',\n",
       " 'CorPlot.R',\n",
       " 'imgRegFig-2.pdf',\n",
       " 'ImageOriginAndSpacing.pdf',\n",
       " 'elastixLogo.gif',\n",
       " 'haesleinhuepf-1088546103866388481_7s.gif',\n",
       " 'mi.png',\n",
       " 'imgRegFig-1a.pdf',\n",
       " 'registrationPipeline.png',\n",
       " 'mse.png',\n",
       " 'imgRegFig-1.pdf']"
      ]
     },
     "execution_count": 5,
     "metadata": {},
     "output_type": "execute_result"
    }
   ],
   "source": [
    "# os.listdir('../slides/figures')\n",
    "os.listdir('../slides/figures')"
   ]
  },
  {
   "cell_type": "markdown",
   "id": "642da1bc",
   "metadata": {},
   "source": [
    "<img src=\"../slides/figures/mse.png\" >"
   ]
  },
  {
   "cell_type": "markdown",
   "id": "11f1f102",
   "metadata": {},
   "source": [
    "The result is not great. At the bottom of the image, the skull in the CT is overlayed with part of the brain in the MR. But near the top of the image, the skull is too far up.  As well, there is some rotation that was not corrected for.\n",
    "\n",
    "Let's understand why MSE produced this result.\n",
    "\n",
    "Now we know why MSE failed. What is the behavior of mutual information.  Let's start by looking at this image ([credit1](https://commons.wikimedia.org/wiki/File:Mutual_Information_Examples.svg),[credit2](https://commons.wikimedia.org/wiki/File:Correlation_examples2.svg)):\n",
    "\n",
    "<img src=\"../slides/figures/mse.png\" style=\"width:600px;height:400px;\">\n",
    "\n",
    "Imagine each point in the \n",
    "\n",
    "Look at the top two rows, and notice that mean squared error is sensitive both to how much spread there is in the data, and the linear relationship between the data.  Data with a larger spread have a lower mse (the top row has larger or equal MSE.  \n",
    "\n",
    "Here's the same plot, but now displaying the correlation.\n",
    "\n",
    "<img src=\"../slides/figures/cor.png\" style=\"width:600px;height:400px;\">\n",
    "\n",
    "Here's the same plot, but now displaying the mutual information.\n",
    "\n",
    "<img src=\"../slides/figures/mi.png\" style=\"width:600px;height:400px;\">\n",
    "\n",
    "\n",
    "Now that we understand, let's try mutual information, by first loading a parameters file:"
   ]
  },
  {
   "cell_type": "code",
   "execution_count": null,
   "id": "b39a85d4",
   "metadata": {},
   "outputs": [],
   "source": [
    "params_mi = sitk.ReadParameterFile('../elastixParameters/AffineMI_2d.txt')\n",
    "sitk.PrintParameterMap( params_mi )"
   ]
  },
  {
   "cell_type": "markdown",
   "id": "f6493a04",
   "metadata": {},
   "source": [
    "Notice the line `(Metric \"AdvancedMattesMutualInformation\")`, indicating that elastix will use mutual information. The [documentation](https://elastix.lumc.nl/doxygen/classelastix_1_1AdvancedMattesMutualInformationMetric.html).\n",
    "\n",
    "Now, run elastix with these parameters, and visualize the results by overlaying the images."
   ]
  },
  {
   "cell_type": "code",
   "execution_count": null,
   "id": "e9a9ca7e",
   "metadata": {},
   "outputs": [],
   "source": [
    "elastix_mi = run_elastix(fixedImage, movingImage, params_mi)\n",
    "result_mi = elastix_mi.GetResultImage()"
   ]
  },
  {
   "cell_type": "code",
   "execution_count": null,
   "id": "d8775aa8",
   "metadata": {},
   "outputs": [],
   "source": [
    "compare_overlay(result_mi, fixedImage)"
   ]
  }
 ],
 "metadata": {
  "kernelspec": {
   "display_name": "Python 3 (ipykernel)",
   "language": "python",
   "name": "python3"
  },
  "language_info": {
   "codemirror_mode": {
    "name": "ipython",
    "version": 3
   },
   "file_extension": ".py",
   "mimetype": "text/x-python",
   "name": "python",
   "nbconvert_exporter": "python",
   "pygments_lexer": "ipython3",
   "version": "3.10.12"
  }
 },
 "nbformat": 4,
 "nbformat_minor": 5
}
