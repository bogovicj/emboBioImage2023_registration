{
 "cells": [
  {
   "cell_type": "markdown",
   "id": "6a805a48",
   "metadata": {},
   "source": [
    "# Similarity metrics for registration\n",
    "\n",
    "Here, we will learn about similarity metrics.\n",
    "\n",
    "Specifically, we will compare two popular metrics: \n",
    "\n",
    "* [Mean squared error (MSE)](https://en.wikipedia.org/wiki/Mean_squared_error#Predictor)\n",
    "* [Normalized mutual information (NMI)](https://en.wikipedia.org/wiki/Mutual_information#Normalized_variants)\n",
    "\n",
    "In this example, we'll first observes that MSE fails, and then understand why it fails. Then observe that using NMI succeeds, and understand why that is the case.\n",
    "\n",
    "First, let's import libraries and make some useful functions:"
   ]
  },
  {
   "cell_type": "code",
   "execution_count": null,
   "id": "ee899ad9",
   "metadata": {},
   "outputs": [],
   "source": [
    "import numpy as np\n",
    "import SimpleITK as sitk\n",
    "\n",
    "import itkwidgets\n",
    "from itkwidgets import view\n",
    "\n",
    "%matplotlib inline\n",
    "import matplotlib.pyplot as plt\n",
    "\n",
    "def compare_overlay(moving, fixed):\n",
    "    farr = sitk.GetArrayFromImage(fixed).astype(np.float32)\n",
    "    rarr = sitk.GetArrayFromImage(moving).astype(np.float32)\n",
    "\n",
    "    plt.figure()\n",
    "    plt.imshow(farr, 'gray', interpolation='none', alpha=0.8)\n",
    "    plt.imshow(rarr, 'winter', interpolation='none', alpha=0.5)\n",
    "    \n",
    "def run_elastix(fixed_image, moving_image, params):\n",
    "    \"\"\"\n",
    "    Runs elastix with the given fixed and moving images,\n",
    "    and elastix parameters.\n",
    "    \n",
    "    Returns the ElastixImageFilter, from which the results\n",
    "    can be obtained.\n",
    "    \"\"\"\n",
    "    elastixImageFilter = sitk.ElastixImageFilter()\n",
    "    elastixImageFilter.SetFixedImage(fixed_image)\n",
    "    elastixImageFilter.SetMovingImage(moving_image)\n",
    "    elastixImageFilter.SetParameterMap(params)\n",
    "    elastixImageFilter.Execute()\n",
    "    return elastixImageFilter"
   ]
  },
  {
   "cell_type": "markdown",
   "id": "56f3f0d2",
   "metadata": {},
   "source": [
    "Read the example images and visualize them in three different ways:"
   ]
  },
  {
   "cell_type": "code",
   "execution_count": null,
   "id": "98bf34de",
   "metadata": {},
   "outputs": [],
   "source": [
    "movingImage = sitk.ReadImage('../sampleImages/ct_2d_moving.tif')\n",
    "fixedImage  = sitk.ReadImage('../sampleImages/mri_2d.tif')"
   ]
  },
  {
   "cell_type": "markdown",
   "id": "b04172c7",
   "metadata": {},
   "source": [
    "First we'll simply visualize the images side-by-side, with `itkwidgets` as we did in the `translation_initialization` notebook.\n",
    "\n",
    "The CT image (moving) is on the left, and the MR image (fixed) is on the right. Notice:\n",
    "\n",
    "* Features of the brain are visible in the MR but not the CT\n",
    "* The skull is bright in the CT but dark in the MR."
   ]
  },
  {
   "cell_type": "code",
   "execution_count": null,
   "id": "18ce9950",
   "metadata": {},
   "outputs": [],
   "source": [
    "itkwidgets.compare(movingImage,fixedImage)"
   ]
  },
  {
   "cell_type": "markdown",
   "id": "07e8d217",
   "metadata": {},
   "source": [
    "Next we'll use the \"checkerboard\" visualization that comes with `itkwidgets`.  Try changing the `pattern` parameter to 12, for example."
   ]
  },
  {
   "cell_type": "code",
   "execution_count": null,
   "id": "15c78773",
   "metadata": {
    "scrolled": true
   },
   "outputs": [],
   "source": [
    "itkwidgets.checkerboard(movingImage,fixedImage, pattern=12)"
   ]
  },
  {
   "cell_type": "markdown",
   "id": "4de4fcaf",
   "metadata": {},
   "source": [
    "Last, let's overlay the images using the function defined above.\n",
    "\n",
    "The main point is that the images are not currently well aligned."
   ]
  },
  {
   "cell_type": "code",
   "execution_count": null,
   "id": "7a8696eb",
   "metadata": {},
   "outputs": [],
   "source": [
    "compare_overlay(movingImage, fixedImage)"
   ]
  },
  {
   "cell_type": "markdown",
   "id": "b418c588",
   "metadata": {},
   "source": [
    "Let's load a set of elastix parameters from a file."
   ]
  },
  {
   "cell_type": "code",
   "execution_count": null,
   "id": "db584b8a",
   "metadata": {},
   "outputs": [],
   "source": [
    "params_mse = sitk.ReadParameterFile('../elastixParameters/AffineMSE_2d.txt')\n",
    "sitk.PrintParameterMap( params_mse )"
   ]
  },
  {
   "cell_type": "markdown",
   "id": "d879901f",
   "metadata": {},
   "source": [
    "Notice the line `(Metric \"AdvancedMeanSquares\")`, indicating that elastix will use mean squared error. The [documentation](https://elastix.lumc.nl/doxygen/classelastix_1_1AdvancedMeanSquaresMetric.html).\n",
    "\n",
    "Now, run elastix with these parameters, and visualize the results by overlaying the images."
   ]
  },
  {
   "cell_type": "code",
   "execution_count": null,
   "id": "f70fb80b",
   "metadata": {},
   "outputs": [],
   "source": [
    "elastix_mse = run_elastix(fixedImage, movingImage, params_mse)\n",
    "result_mse = elastix_mse.GetResultImage()"
   ]
  },
  {
   "cell_type": "code",
   "execution_count": null,
   "id": "268abd17",
   "metadata": {
    "scrolled": true
   },
   "outputs": [],
   "source": [
    "compare_overlay(result_mse, fixedImage)"
   ]
  },
  {
   "cell_type": "markdown",
   "id": "11f1f102",
   "metadata": {},
   "source": [
    "The result is not great. At the bottom of the image, the skull in the CT is overlayed with part of the brain in the MR. But near the top of the image, the skull is too far up.  As well, there is some rotation that was not corrected for.\n",
    "\n",
    "Let's understand why Mean Squared Error produced this result. MSE wants the images to be exactly identical after the transformation is applied. I.e. it wants low-intensities in one image to correspond to low intensities in the other image. Similarly, it tries to match locations of high intensities in both images.\n",
    "\n",
    "However, in this example, our goal is for some high intensities (skull) in the CT to correspond to some low intensities in the MR, which is penalized highly by MSE. This explains why MSE failed - because it penalized strongly our desired transformation, and found a different one that matches better its goal. (Notice the bright skull is overlayed with the moderately bright brain\n",
    "near the bottom of the resulting image).\n",
    "\n",
    "To make the algorithm work, we need to find a metric that aligns with our goal. Cross correlation is another popular metric,  but it also tries to match high intensities to each other and low intensities to each other. They need not be identical, so it is less strict than MSE.\n",
    "\n",
    "Mutual information is a third popular metric, and will be what we try next. It is the least strict of the three. Roughly, it measures how much knowing the intensity of one image tells you about the intensity of the other image at the same location.\n",
    "\n",
    "Consider the result above. The brightest intensities for the CT are the skull. Those locations are aligned with some medium intensities, and some low intensities in the MR. So it would be hard to predict the MR intensity knowing the CT intensity is bright. When the images are aligned, the bright intensities in CT will almost always correspond to low intensities in the MR. I.e. knowing the CT intensity is bright would give us lots of information about the intensity of the MR image. \n",
    "\n",
    "Now let's try mutual information, by first loading a parameters file:"
   ]
  },
  {
   "cell_type": "code",
   "execution_count": null,
   "id": "b39a85d4",
   "metadata": {},
   "outputs": [],
   "source": [
    "params_mi = sitk.ReadParameterFile('../elastixParameters/AffineMI_2d.txt')\n",
    "sitk.PrintParameterMap( params_mi )"
   ]
  },
  {
   "cell_type": "markdown",
   "id": "f6493a04",
   "metadata": {},
   "source": [
    "Notice the line `(Metric \"AdvancedMattesMutualInformation\")`, indicating that elastix will use mutual information. See the [documentation](https://elastix.lumc.nl/doxygen/classelastix_1_1AdvancedMattesMutualInformationMetric.html) if you are interested.\n",
    "\n",
    "Now, run elastix with these parameters, and visualize the results by overlaying the images."
   ]
  },
  {
   "cell_type": "code",
   "execution_count": null,
   "id": "e9a9ca7e",
   "metadata": {},
   "outputs": [],
   "source": [
    "elastix_mi = run_elastix(fixedImage, movingImage, params_mi)\n",
    "result_mi = elastix_mi.GetResultImage()"
   ]
  },
  {
   "cell_type": "code",
   "execution_count": null,
   "id": "d8775aa8",
   "metadata": {},
   "outputs": [],
   "source": [
    "compare_overlay(result_mi, fixedImage)"
   ]
  },
  {
   "cell_type": "markdown",
   "id": "9a3d4b80",
   "metadata": {},
   "source": [
    "While not perfect, the result is much better, with the skull of the CT and MR images nicely aligned."
   ]
  },
  {
   "cell_type": "markdown",
   "id": "7218c225",
   "metadata": {},
   "source": [
    "## Bonus (optional): Mutual information details\n",
    "\n",
    "Learn more about mutual information (and joint histograms) in the notebook `joint_histogram.ipynb`"
   ]
  }
 ],
 "metadata": {
  "kernelspec": {
   "display_name": "Python 3 (ipykernel)",
   "language": "python",
   "name": "python3"
  },
  "language_info": {
   "codemirror_mode": {
    "name": "ipython",
    "version": 3
   },
   "file_extension": ".py",
   "mimetype": "text/x-python",
   "name": "python",
   "nbconvert_exporter": "python",
   "pygments_lexer": "ipython3",
   "version": "3.10.12"
  }
 },
 "nbformat": 4,
 "nbformat_minor": 5
}
