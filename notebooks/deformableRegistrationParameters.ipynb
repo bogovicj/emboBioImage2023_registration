{
 "cells": [
  {
   "cell_type": "markdown",
   "id": "25ccf40d",
   "metadata": {},
   "source": [
    "Multi-resolution registration example"
   ]
  },
  {
   "cell_type": "code",
   "execution_count": null,
   "id": "a1de4cdb",
   "metadata": {},
   "outputs": [],
   "source": [
    "import os\n",
    "from itertools import chain\n",
    "\n",
    "import numpy as np\n",
    "import SimpleITK as sitk\n",
    "\n",
    "import itkwidgets\n",
    "from itkwidgets import view\n",
    "\n",
    "def itk_image(np_array, resolution):\n",
    "    img = sitk.GetImageFromArray(np_array.astype(np.float32))\n",
    "    img.SetOrigin((0, 0, 0))\n",
    "    img.SetSpacing(resolution)\n",
    "    return img\n",
    "\n",
    "def imwrite(image, filename):\n",
    "    writer = sitk.ImageFileWriter()\n",
    "    writer.SetFileName(filename)\n",
    "    writer.Execute(image)\n",
    "    \n",
    "def run_elastix(fixed_image, moving_image, params):\n",
    "    elastixImageFilter = sitk.ElastixImageFilter()\n",
    "    elastixImageFilter.SetFixedImage(fixed_image)\n",
    "    elastixImageFilter.SetMovingImage(moving_image)\n",
    "    elastixImageFilter.SetParameterMap(params)\n",
    "    elastixImageFilter.Execute()\n",
    "    return elastixImageFilter\n",
    "\n",
    "def print_parameters(elastix_parameters):\n",
    "    for k,v in elastix_parameters.iteritems():\n",
    "        print(f'{k} \\n\\t {v}')\n"
   ]
  },
  {
   "cell_type": "code",
   "execution_count": null,
   "id": "70b67601",
   "metadata": {},
   "outputs": [],
   "source": [
    "fixed_image_path='sampleImages/jrc18_down.nrrd'\n",
    "fixed_image = sitk.ReadImage(fixed_image_path)"
   ]
  },
  {
   "cell_type": "code",
   "execution_count": null,
   "id": "86ea84f1",
   "metadata": {},
   "outputs": [],
   "source": [
    "moving_image_path = 'sampleImages/jrc10_down.nrrd'\n",
    "moving_image = sitk.ReadImage(moving_image_path)"
   ]
  },
  {
   "cell_type": "code",
   "execution_count": null,
   "id": "6371ebb8",
   "metadata": {},
   "outputs": [],
   "source": [
    "default_params = sitk.ReadParameterFile('elastixParameters/DefaultBsplineParams.txt')\n",
    "elastixImageFilter = run_elastix(fixed_image, moving_image, default_params ) \n",
    "result_image = elastixImageFilter.GetResultImage()\n",
    "sitk.WriteImage(result_image, 'defaultbspline_result_img.nrrd')"
   ]
  },
  {
   "cell_type": "markdown",
   "id": "e3a22c8e",
   "metadata": {},
   "source": [
    "It takes quite awhile for the above to run, and the result is pretty bad.  It may look okay when zoomed out, but zooming in and scrolling in z will show that there is very high deformation."
   ]
  },
  {
   "cell_type": "code",
   "execution_count": null,
   "id": "b62c4ddc",
   "metadata": {
    "scrolled": true
   },
   "outputs": [],
   "source": [
    "view(result_image)"
   ]
  },
  {
   "cell_type": "markdown",
   "id": "2c375581",
   "metadata": {},
   "source": [
    "## Let's make it better\n",
    "\n"
   ]
  },
  {
   "cell_type": "code",
   "execution_count": null,
   "id": "99d7a3a1",
   "metadata": {},
   "outputs": [],
   "source": [
    "affine_params = sitk.ReadParameterFile('elastixParameters/DefaultSmoother_Affine.txt')\n",
    "elastixAffine = run_elastix(fixed_image, moving_image, affine_params ) \n",
    "sitk.WriteImage(elastixAffine.GetResultImage(), 'affine_result_img.nrrd')"
   ]
  },
  {
   "cell_type": "code",
   "execution_count": null,
   "id": "93fc32ba",
   "metadata": {},
   "outputs": [],
   "source": [
    "# use the affine as the new moving image\n",
    "affine_result = elastixAffine.GetResultImage()\n",
    "bspline_params = sitk.ReadParameterFile('elastixParameters/DefaultSmoother_Bspline.txt')\n",
    "elastixAffineBspline = run_elastix(fixed_image, affine_result, bspline_params ) \n",
    "sitk.WriteImage(elastixAffineBspline.GetResultImage(), 'affine_bspline_result_img.nrrd')"
   ]
  },
  {
   "cell_type": "markdown",
   "id": "96fa0336",
   "metadata": {},
   "source": [
    "A better approach"
   ]
  },
  {
   "cell_type": "code",
   "execution_count": null,
   "id": "ebbfb6a8",
   "metadata": {},
   "outputs": [],
   "source": [
    "parameterMapVector = sitk.VectorOfParameterMap()\n",
    "parameterMapVector.append(affine_params)\n",
    "parameterMapVector.append(bspline_params)\n",
    "\n",
    "elastixParamVector = run_elastix(fixed_image, moving_image, parameterMapVector ) \n",
    "sitk.WriteImage(elastixParamVector.GetResultImage(), 'affinebspline_result_img.nrrd')"
   ]
  },
  {
   "cell_type": "code",
   "execution_count": null,
   "id": "6f3a9fc9",
   "metadata": {},
   "outputs": [],
   "source": [
    "transformixImageFilter = sitk.TransformixImageFilter()\n",
    "transformixImageFilter.SetTransformParameterMap(elastixParamVector.GetTransformParameterMap())\n",
    "transformixImageFilter.SetMovingImage(moving_image)\n",
    "# transformixImageFilter.SetFixedImage(fixed_image)\n",
    "transformixImageFilter.Execute()\n",
    "sitk.WriteImage(transformixImageFilter.GetResultImage(), 'tform_res.nrrd')"
   ]
  },
  {
   "cell_type": "code",
   "execution_count": null,
   "id": "7ddcbaad",
   "metadata": {},
   "outputs": [],
   "source": [
    "pmap = elastixParamVector.GetTransformParameterMap()\n",
    "# print_parameters(pmap[1])\n",
    "\n",
    "pmap[0]['Size'] = ['207', '100', '60']\n",
    "pmap[0]['Spacing'] = ['3.0', '3.0', '3.0']\n",
    "pmap[1]['Size'] = ['207', '100', '60']\n",
    "pmap[1]['Spacing'] = ['3.0', '3.0', '3.0']"
   ]
  },
  {
   "cell_type": "code",
   "execution_count": null,
   "id": "1e4e2fdd",
   "metadata": {},
   "outputs": [],
   "source": [
    "\n",
    "transformixImageFilter = sitk.TransformixImageFilter()\n",
    "transformixImageFilter.SetTransformParameterMap(elastixParamVector.GetTransformParameterMap())\n",
    "transformixImageFilter.SetMovingImage(moving_image)\n",
    "transformixImageFilter.Execute()"
   ]
  },
  {
   "cell_type": "markdown",
   "id": "e8fe5f05",
   "metadata": {},
   "source": [
    "## Bonus - quantifying deformation"
   ]
  },
  {
   "cell_type": "code",
   "execution_count": null,
   "id": "d263359c",
   "metadata": {},
   "outputs": [],
   "source": [
    "transformixImageFilter = sitk.TransformixImageFilter()\n",
    "transformixImageFilter.SetTransformParameterMap(elastixParamVector.GetTransformParameterMap())\n",
    "transformixImageFilter.SetMovingImage(moving_image)\n",
    "transformixImageFilter.SetOutputDirectory('./a')\n",
    "transformixImageFilter.SetComputeDeterminantOfSpatialJacobian(True)\n",
    "transformixImageFilter.Execute()"
   ]
  },
  {
   "cell_type": "code",
   "execution_count": null,
   "id": "72847ebb",
   "metadata": {},
   "outputs": [],
   "source": [
    "transformixImageFilter = sitk.TransformixImageFilter()\n",
    "transformixImageFilter.SetTransformParameterMap(elastixImageFilter.GetTransformParameterMap())\n",
    "transformixImageFilter.SetMovingImage(moving_image)\n",
    "transformixImageFilter.SetOutputDirectory('./b')\n",
    "transformixImageFilter.SetComputeDeterminantOfSpatialJacobian(True)\n",
    "transformixImageFilter.Execute()"
   ]
  }
 ],
 "metadata": {
  "kernelspec": {
   "display_name": "Python 3 (ipykernel)",
   "language": "python",
   "name": "python3"
  },
  "language_info": {
   "codemirror_mode": {
    "name": "ipython",
    "version": 3
   },
   "file_extension": ".py",
   "mimetype": "text/x-python",
   "name": "python",
   "nbconvert_exporter": "python",
   "pygments_lexer": "ipython3",
   "version": "3.10.12"
  }
 },
 "nbformat": 4,
 "nbformat_minor": 5
}
