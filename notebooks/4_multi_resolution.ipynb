{
 "cells": [
  {
   "cell_type": "markdown",
   "id": "25ccf40d",
   "metadata": {},
   "source": [
    "Multi-resolution registration example\n",
    "\n",
    "# Working with big data\n",
    "\n",
    "## Strategy 1 - downsample\n",
    "\n",
    "Registration algorithms can be expensive, but will be much faster if working on lower resolution images. In this notebook, we will \n",
    "\n",
    "1. run a registration algorithm on the downsampled images we produced in `resample_images.ipynb`\n",
    "2. apply the transformation that results on the original, high-resolution images.\n",
    "\n",
    "Two facts make this possible.\n",
    "\n",
    "* the original and downsampled images are in the same **physical** coordinate system.\n",
    "* the transformation produced by teh registration works on **physical** (not pixel) coordinates.\n",
    "\n",
    "First, let's import libraries and make some useful functions:"
   ]
  },
  {
   "cell_type": "code",
   "execution_count": null,
   "id": "a1de4cdb",
   "metadata": {},
   "outputs": [],
   "source": [
    "import os\n",
    "from itertools import chain\n",
    "import numpy as np\n",
    "\n",
    "import SimpleITK as sitk\n",
    "\n",
    "def run_elastix(fixed_image, moving_image, params):\n",
    "    \"\"\"\n",
    "    Runs elastix with the given fixed and moving images,\n",
    "    and elastix parameters.\n",
    "    \n",
    "    Returns the ElastixImageFilter, from which the results\n",
    "    can be obtained.\n",
    "    \"\"\"\n",
    "    elastixImageFilter = sitk.ElastixImageFilter()\n",
    "    elastixImageFilter.SetFixedImage(fixed_image)\n",
    "    elastixImageFilter.SetMovingImage(moving_image)\n",
    "    elastixImageFilter.SetParameterMap(params)\n",
    "    elastixImageFilter.Execute()\n",
    "    return elastixImageFilter\n",
    "\n",
    "def print_parameters(elastix_parameters):\n",
    "    for k,v in elastix_parameters.iteritems():\n",
    "        print(f'{k} \\n\\t {v}')"
   ]
  },
  {
   "cell_type": "markdown",
   "id": "5a596b81",
   "metadata": {},
   "source": [
    "Next, we'll load the downsampled images."
   ]
  },
  {
   "cell_type": "code",
   "execution_count": null,
   "id": "86ea84f1",
   "metadata": {},
   "outputs": [],
   "source": [
    "# load fixed image\n",
    "fixed_image_path='../sampleImages/jrc18_down.nrrd'\n",
    "fixed_image = sitk.ReadImage(fixed_image_path)\n",
    "\n",
    "# load moving image\n",
    "moving_image_path = '../sampleImages/jrc10_down.nrrd'\n",
    "moving_image = sitk.ReadImage(moving_image_path)"
   ]
  },
  {
   "cell_type": "code",
   "execution_count": null,
   "id": "99d7a3a1",
   "metadata": {},
   "outputs": [],
   "source": [
    "%%time\n",
    "\n",
    "# run a simple registration\n",
    "affine_params = sitk.ReadParameterFile('../elastixParameters/DefaultSmoother_Affine.txt')\n",
    "elastixImageFilter = run_elastix(fixed_image, moving_image, affine_params ) \n",
    "\n",
    "# write the output to a file\n",
    "sitk.WriteImage(elastixImageFilter.GetResultImage(), '../sampleImages/affine_result_img.nrrd')\n"
   ]
  },
  {
   "cell_type": "code",
   "execution_count": null,
   "id": "0f740338",
   "metadata": {},
   "outputs": [],
   "source": [
    "# print the output\n",
    "transform_parameters = elastixImageFilter.GetTransformParameterMap()\n",
    "print_parameters(transform_parameters[0])"
   ]
  },
  {
   "cell_type": "markdown",
   "id": "5d50ab44",
   "metadata": {},
   "source": [
    "This output contains lots of information, but notice three things in particular:\n",
    "\n",
    "1. The `Size` field tells elastix what the pixel size of the output image \n",
    "2. The `Spacing` field tells elastix the resolution of the \n",
    "3. The `TransformParameters` store the affine transformation that will be applied to the image.\n",
    "\n",
    "Next, we'll apply this transformation to the high resolution image, so the first step is to load it."
   ]
  },
  {
   "cell_type": "code",
   "execution_count": null,
   "id": "f537b744",
   "metadata": {},
   "outputs": [],
   "source": [
    "moving_image_hi_path = '../sampleImages/JFRCtemplate2010.nrrd'\n",
    "moving_image_hi = sitk.ReadImage(moving_image_hi_path)\n",
    "print( moving_image_hi.GetSpacing() )"
   ]
  },
  {
   "cell_type": "markdown",
   "id": "e2ac8d9d",
   "metadata": {},
   "source": [
    "Finally, we'll apply the transformation to this higher resolution image.\n",
    "\n",
    "Elastix's default behavior is to transform images to match the size and resolution of the fixed image. In this case, our downsampled fixed image has resolution `1.52 x 1.52 x 1.52`, and its size is `413 x 192 x 120`, so that is the size and resolution of the output we would get.\n",
    "\n",
    "What we want is an output image matching the original high-resolution fixed image, which has resolution `0.38 x 0.38 x 0.38` and size `1652 x 768 x 479`. We need to tell elastix that this is what we want, so we set the appropriate values of the transform parameters, like so:"
   ]
  },
  {
   "cell_type": "code",
   "execution_count": null,
   "id": "8332a771",
   "metadata": {},
   "outputs": [],
   "source": [
    "transform_parameters_highres = elastixImageFilter.GetTransformParameterMap()\n",
    "transform_parameters_highres[0]['Size'] = ['1652', '768', '479']\n",
    "transform_parameters_highres[0]['Spacing'] = ['0.38', '0.38', '0.38']"
   ]
  },
  {
   "cell_type": "markdown",
   "id": "285c5701",
   "metadata": {},
   "source": [
    "and now we can use those edited parameters to apply the transformation."
   ]
  },
  {
   "cell_type": "code",
   "execution_count": null,
   "id": "fa371766",
   "metadata": {},
   "outputs": [],
   "source": [
    "# \"Transformix\" is the filter that comes with elastix that transforms images  \n",
    "transformixImageFilter = sitk.TransformixImageFilter()\n",
    "\n",
    "# set the transformation and moving image, and run \n",
    "transformixImageFilter.SetTransformParameterMap(transform_parameters_highres)\n",
    "transformixImageFilter.SetMovingImage(moving_image_hi)\n",
    "\n",
    "# run it\n",
    "transformixImageFilter.Execute()\n",
    "\n",
    "# write the resulting image\n",
    "sitk.WriteImage(transformixImageFilter.GetResultImage(), '../sampleImages/affine_result_hires_img.nrrd')"
   ]
  },
  {
   "cell_type": "markdown",
   "id": "bf340c1c",
   "metadata": {},
   "source": [
    " ## Check the results\n",
    " \n",
    " Use Fiji to open the resulting image, located in `sampleImages/affine_result_hires_img.nrrd`. Confirm that:\n",
    " \n",
    " * It is the expected size and resolution\n",
    " * It is well registered to the high-resolution target image"
   ]
  },
  {
   "cell_type": "markdown",
   "id": "8771a7ba",
   "metadata": {},
   "source": [
    " ## Bonus (optional)\n",
    " \n",
    "Run transformix again using the higher resolution moving image, but this time use transform parameters directly from elastix `transform_parameters = elastixImageFilter.GetTransformParameterMap()`.  (i.e., don't set the output size and resolution).  Confirm that the resulting image:\n",
    "\n",
    "* Is the expected, smaller size and resolution\n",
    "* Is still well registered to the fixed image.\n"
   ]
  },
  {
   "cell_type": "markdown",
   "id": "a1b8b167",
   "metadata": {},
   "source": [
    "## Advanced (optional)\n",
    "\n",
    "Run transformix again with the high resolution image, but this time create an image \n",
    "at resolution `[0.5, 0.5, 0.75]`.\n",
    "\n",
    "1. determine a reasonable pixel size for the resulting image.\n",
    "2. run `transform_parameters = elastixImageFilter.GetTransformParameterMap()`\n",
    "2. set the values for the `transform_parameters` appropriately.\n",
    "3. run transformix\n",
    "4. verify that the result is as expected\n"
   ]
  }
 ],
 "metadata": {
  "kernelspec": {
   "display_name": "Python 3 (ipykernel)",
   "language": "python",
   "name": "python3"
  },
  "language_info": {
   "codemirror_mode": {
    "name": "ipython",
    "version": 3
   },
   "file_extension": ".py",
   "mimetype": "text/x-python",
   "name": "python",
   "nbconvert_exporter": "python",
   "pygments_lexer": "ipython3",
   "version": "3.10.12"
  }
 },
 "nbformat": 4,
 "nbformat_minor": 5
}
