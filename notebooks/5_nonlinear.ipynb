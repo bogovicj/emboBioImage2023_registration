{
 "cells": [
  {
   "cell_type": "markdown",
   "id": "25ccf40d",
   "metadata": {},
   "source": [
    "# Deformable (nonlinear) registration\n",
    "\n",
    "This notebook shows example of nonlinear, deformable registration with elastix. It demonstrates some\n",
    "common pitfalls, and how to address them.\n",
    "\n",
    "One of the main challenges is controlling the amount of deformation produced by the algorithm. We will learn\n",
    "how to adjust algorithm parameters to balance accuracy without introducing too much distortion.\n",
    "\n",
    "Finally, we will briefly learn about one way to quantitatively measure distortion using the \"jacobian determinant.\"\n",
    "\n",
    "As before, we start with importing libraries, defining some functions, and loading the example images."
   ]
  },
  {
   "cell_type": "code",
   "execution_count": null,
   "id": "a1de4cdb",
   "metadata": {},
   "outputs": [],
   "source": [
    "import os\n",
    "from itertools import chain\n",
    "\n",
    "import numpy as np\n",
    "import SimpleITK as sitk\n",
    "\n",
    "import itkwidgets\n",
    "from itkwidgets import view\n",
    "\n",
    "def itk_image(np_array, resolution):\n",
    "    img = sitk.GetImageFromArray(np_array.astype(np.float32))\n",
    "    img.SetOrigin((0, 0, 0))\n",
    "    img.SetSpacing(resolution)\n",
    "    return img\n",
    "\n",
    "def imwrite(image, filename):\n",
    "    writer = sitk.ImageFileWriter()\n",
    "    writer.SetFileName(filename)\n",
    "    writer.Execute(image)\n",
    "    \n",
    "def run_elastix(fixed_image, moving_image, params):\n",
    "    elastixImageFilter = sitk.ElastixImageFilter()\n",
    "    elastixImageFilter.SetFixedImage(fixed_image)\n",
    "    elastixImageFilter.SetMovingImage(moving_image)\n",
    "    elastixImageFilter.SetParameterMap(params)\n",
    "    elastixImageFilter.Execute()\n",
    "    return elastixImageFilter\n",
    "\n",
    "def print_parameters(elastix_parameters):\n",
    "    for k,v in elastix_parameters.iteritems():\n",
    "        print(f'{k} \\n\\t {v}')\n"
   ]
  },
  {
   "cell_type": "code",
   "execution_count": null,
   "id": "70b67601",
   "metadata": {},
   "outputs": [],
   "source": [
    "fixed_image_path='../sampleImages/jrc18_down.nrrd'\n",
    "fixed_image = sitk.ReadImage(fixed_image_path)\n",
    "\n",
    "moving_image_path = '../sampleImages/jrc10_down.nrrd'\n",
    "moving_image = sitk.ReadImage(moving_image_path)"
   ]
  },
  {
   "cell_type": "markdown",
   "id": "11accfdf",
   "metadata": {},
   "source": [
    "First, we'll load some default parameters from a file, run elastix with those parameters, and visualize the result."
   ]
  },
  {
   "cell_type": "code",
   "execution_count": null,
   "id": "6371ebb8",
   "metadata": {},
   "outputs": [],
   "source": [
    "default_params = sitk.ReadParameterFile('../elastixParameters/DefaultBsplineParams.txt')\n",
    "elastix_nonlinear = run_elastix(fixed_image, moving_image, default_params ) \n",
    "result_image = elastix_nonlinear.GetResultImage()\n",
    "sitk.WriteImage(result_image, '../sampleImages/defaultbspline_result_img.nrrd')"
   ]
  },
  {
   "cell_type": "markdown",
   "id": "e3a22c8e",
   "metadata": {},
   "source": [
    "It takes quite awhile for the above to run, and the result is pretty bad.  It may look okay when zoomed out, but zooming in and scrolling in z will show that there is very high deformation.\n",
    "\n",
    "If it's difficult to appreciate the high deformation below, try opening the file in Fiji.  It will be located here: `sampleImages/defaultbspline_result_img.nrrd`."
   ]
  },
  {
   "cell_type": "code",
   "execution_count": null,
   "id": "96a294be",
   "metadata": {},
   "outputs": [],
   "source": [
    "view(result_image)"
   ]
  },
  {
   "cell_type": "markdown",
   "id": "2c375581",
   "metadata": {},
   "source": [
    "## Let's make it better\n",
    "\n",
    "One very common approach to registration is to break it into multiple registration steps, that start simple and become more complex.\n",
    "\n",
    "Next we will first run an affine registration. It's simple and so will not produce distortion.  After that, we will **run our nonlinear registration using the result of the affine registration**.  "
   ]
  },
  {
   "cell_type": "code",
   "execution_count": null,
   "id": "99d7a3a1",
   "metadata": {},
   "outputs": [],
   "source": [
    "affine_params = sitk.ReadParameterFile('../elastixParameters/DefaultSmoother_Affine.txt')\n",
    "elastixAffine = run_elastix(fixed_image, moving_image, affine_params ) \n",
    "sitk.WriteImage(elastixAffine.GetResultImage(), 'affine_result_img.nrrd')"
   ]
  },
  {
   "cell_type": "code",
   "execution_count": null,
   "id": "93fc32ba",
   "metadata": {},
   "outputs": [],
   "source": [
    "# use the affine as the new moving image\n",
    "affine_result = elastixAffine.GetResultImage()\n",
    "bspline_params = sitk.ReadParameterFile('../elastixParameters/DefaultSmoother_Bspline.txt')\n",
    "elastixAffineBspline = run_elastix(fixed_image, affine_result, bspline_params ) \n",
    "sitk.WriteImage(elastixAffineBspline.GetResultImage(), '../sampleImages/affine_bspline_result_img.nrrd')"
   ]
  },
  {
   "cell_type": "markdown",
   "id": "96fa0336",
   "metadata": {},
   "source": [
    "Open the resulting image at `sampleImages/affine_bspline_result_img.nrrd` and compare to the previous result. It looks much better (less deformed). There is one more improvement to do.\n",
    "\n",
    "## There's still a little problem...\n",
    "\n",
    "In the two step registration we just did, running elastix the first time created an intermediate transformed image that we transformed a second time on the second run through elastix. We ran the image transformation routine twice. Whenever we transform an image, we need to interpolate that image (remember the video lecture). So effectively, **we interpolated our moving image twice.**\n",
    "\n",
    "**Interpolating an image blurs the image.** This is demonstrated in this example ([credit Robert Hasse](https://twitter.com/haesleinhuepf/status/1088546103866388481))\n",
    "\n",
    "<img src=\"haesleinhuepf-1088546103866388481_7s.gif\">\n",
    "\n",
    "For the movie on the right, the image is repeatedly interpolated as it is rotated more and more. The repeated interpolation causes the blurring effect. **We can remove this undesirable blurring by only interpolating once.**\n",
    "\n",
    "For the movie on the right, to generate each subsequent frame, we concatenate the transformations, always start with the original image, and iterpolate it once. Since only one interpolation is every performed, the amount of blurring does not increase.\n",
    "\n",
    "## Fix it\n",
    "\n",
    "Fortunately, we can fix this problem by telling elastix about both registration steps, letting it handle concatenating the transformations. As a result, the image we get will only be interpolated once, and have less blurring.\n",
    "\n",
    "To do that, we make a sequence (vector) of elastix parameters like this:"
   ]
  },
  {
   "cell_type": "code",
   "execution_count": null,
   "id": "ebbfb6a8",
   "metadata": {},
   "outputs": [],
   "source": [
    "parameter_sequence = sitk.VectorOfParameterMap()\n",
    "\n",
    "# The first (affine) set of parameters\n",
    "parameter_sequence.append(affine_params)\n",
    "\n",
    "# The second (nonlinear) set of parameters\n",
    "parameter_sequence.append(bspline_params)\n",
    "\n",
    "# run elastix with the parameter vector\n",
    "elastix_sequence = run_elastix(fixed_image, moving_image, parameter_sequence ) \n",
    "sitk.WriteImage(elastix_sequence.GetResultImage(), '../sampleImages/affinebspline_result_img.nrrd')"
   ]
  },
  {
   "cell_type": "markdown",
   "id": "6fe713fe",
   "metadata": {},
   "source": [
    "If you look through the output, you will see that it runs both the affine and nonlinear steps."
   ]
  },
  {
   "cell_type": "code",
   "execution_count": null,
   "id": "6f3a9fc9",
   "metadata": {},
   "outputs": [],
   "source": [
    "transform_sequence = elastix_sequence.GetTransformParameterMap()\n",
    "\n",
    "transformixImageFilter = sitk.TransformixImageFilter()\n",
    "transformixImageFilter.SetTransformParameterMap(transform_sequence)\n",
    "transformixImageFilter.SetMovingImage(moving_image)\n",
    "transformixImageFilter.Execute()\n",
    "sitk.WriteImage(transformixImageFilter.GetResultImage(), '../sampleImages/tform_res.nrrd')"
   ]
  },
  {
   "cell_type": "markdown",
   "id": "1612f385",
   "metadata": {},
   "source": [
    "Just like in `similarity_metrics.ipynb`, we can get the transform parameters.  But now, we have a list of transformations.  Notice `ParameterMap 0` and `Parameter Map 1` below that refer to the affine and nonlinear transforms, respectively.\n",
    "\n",
    "Also like before, we can still change the desired output image size and and resolution as we say in `multi_resolution.ipynb`. We'll do that and run transformix.  If you would like, try running transformix on the high-resolution moving image as well."
   ]
  },
  {
   "cell_type": "code",
   "execution_count": null,
   "id": "7ddcbaad",
   "metadata": {},
   "outputs": [],
   "source": [
    "transform_sequence[0]['Size'] = ['207', '100', '60']\n",
    "transform_sequence[0]['Spacing'] = ['3.0', '3.0', '3.0']\n",
    "transform_sequence[1]['Size'] = ['207', '100', '60']\n",
    "transform_sequence[1]['Spacing'] = ['3.0', '3.0', '3.0']\n",
    "sitk.PrintParameterMap( transform_sequence )"
   ]
  },
  {
   "cell_type": "code",
   "execution_count": null,
   "id": "1e4e2fdd",
   "metadata": {},
   "outputs": [],
   "source": [
    "transformixImageFilter = sitk.TransformixImageFilter()\n",
    "transformixImageFilter.SetTransformParameterMap(transform_sequence)\n",
    "transformixImageFilter.SetMovingImage(moving_image)\n",
    "transformixImageFilter.Execute()"
   ]
  },
  {
   "cell_type": "markdown",
   "id": "e8fe5f05",
   "metadata": {},
   "source": [
    "## Bonus: quantifying deformation\n",
    "\n",
    "The [jacobian determinant](https://en.wikipedia.org/wiki/Jacobian_matrix_and_determinant) measures how much a transformation locally expands or shrinks space. It gives a measurement at every point in space, the jacobian determinant result is itself an image.\n",
    "\n",
    "If the image contains areas of expansion (big positive values) and areas of shrinking (values close to zero), then it is a sign that there is lots of distortion, especially if the values change quickly over space.\n",
    "\n",
    "It is possible for the jacobian determinant to be negative, and if so it is a very bad sign. It indicates that the transformation is not invertible - that multiple points in the moving space end up at the same output location.  In other words that space \"has folded over itself\".  **Negative values of the jacobian determinant are a big problem** \n",
    "\n",
    "The function below shows how to compute the jacobian determinant with transformix:"
   ]
  },
  {
   "cell_type": "code",
   "execution_count": null,
   "id": "8cb2951a",
   "metadata": {},
   "outputs": [],
   "source": [
    "def jacobian_determinant(params, output_directory='../sampleImages'):\n",
    "    \"\"\"\n",
    "    Computes an image showing the jacobian determinant and\n",
    "    writes it to the output_directory.\n",
    "    \n",
    "    returns the transformix filter\n",
    "    \"\"\"\n",
    "    transformixImageFilter = sitk.TransformixImageFilter()\n",
    "    transformixImageFilter.SetTransformParameterMap(params)\n",
    "    transformixImageFilter.SetMovingImage(moving_image)\n",
    "    transformixImageFilter.SetOutputDirectory(output_directory)\n",
    "    transformixImageFilter.SetComputeDeterminantOfSpatialJacobian(True)\n",
    "    transformixImageFilter.Execute()\n",
    "    return transformixImageFilter\n",
    "    "
   ]
  },
  {
   "cell_type": "markdown",
   "id": "a84715ab",
   "metadata": {},
   "source": [
    "Now let's use that function to compute the jacobian determinant for the first result that we got that qualitatively looked to have lots of distortion.\n",
    "\n",
    "Then we'll also compute the jacobian determinant for the multi-step registration result that looks smoother."
   ]
  },
  {
   "cell_type": "code",
   "execution_count": null,
   "id": "72847ebb",
   "metadata": {},
   "outputs": [],
   "source": [
    "jacobian_determinant(elastix_nonlinear.GetTransformParameterMap())\n",
    "os.rename('../sampleImages/spatialJacobian.nrrd', '../sampleImages/spatialJacobian_nonlinear.nrrd')\n",
    "\n",
    "jacobian_determinant(elastix_sequence.GetTransformParameterMap())\n",
    "os.rename('../sampleImages/spatialJacobian.nrrd', '../sampleImages/spatialJacobian_sequence.nrrd')"
   ]
  },
  {
   "cell_type": "markdown",
   "id": "2a7bc4cf",
   "metadata": {},
   "source": [
    "We expect that the quantitative results agree our qualitative impression.  Let's see if that's true by displaying the histograms."
   ]
  },
  {
   "cell_type": "code",
   "execution_count": null,
   "id": "534ae337",
   "metadata": {},
   "outputs": [],
   "source": [
    "%matplotlib inline\n",
    "import matplotlib.pyplot as plt\n",
    "\n",
    "jacdet_onestep = sitk.ReadImage('../sampleImages/spatialJacobian_nonlinear.nrrd')\n",
    "jacdet_twostep = sitk.ReadImage('../sampleImages/spatialJacobian_sequence.nrrd')\n",
    "\n",
    "ax = plt.hist( sitk.GetArrayFromImage(jacdet_onestep).flatten(), bins=64, label='one step')\n",
    "plt.gca().hist( sitk.GetArrayFromImage(jacdet_twostep).flatten(), bins=64, label='two step')\n",
    "plt.legend();"
   ]
  },
  {
   "cell_type": "markdown",
   "id": "34ed82ed",
   "metadata": {},
   "source": [
    "It's clear that the two-step procedure produces values that are more tightly distributed. This indicates that it is much less distorted than our initial one-step run.  \n",
    "\n",
    "Even worse, the one-step run produces negative values of the jacobian determinant - a very bad sign!\n",
    "\n",
    "If you're interested, open both images and compare for yourself. They are located at:\n",
    "\n",
    "* `sampleImages/spatialJacobian_nonlinear.nrrd`\n",
    "* `sampleImages/spatialJacobian_sequence.nrrd`"
   ]
  },
  {
   "cell_type": "markdown",
   "id": "9c736521",
   "metadata": {},
   "source": [
    "## Bonus: displacement fields\n",
    "\n",
    "The most common way to represent nonlinear transformation is with a displacement field.  By default, elastix does not produce displacement fields, but it is possible to use transformix to generate and save a displacement field.\n",
    "\n",
    "The example below shows how to do that:"
   ]
  },
  {
   "cell_type": "code",
   "execution_count": null,
   "id": "3d7b0540",
   "metadata": {},
   "outputs": [],
   "source": [
    "def displacement_field(params):\n",
    "    \"\"\"\n",
    "    Computes an image showing the jacobian determinant and\n",
    "    writes it to the output_directory\n",
    "    \n",
    "    returns the transformix filter\n",
    "    \"\"\"\n",
    "    print('new dfield')\n",
    "    transformixImageFilter = sitk.TransformixImageFilter()\n",
    "    transformixImageFilter.SetTransformParameterMap(params)\n",
    "    transformixImageFilter.SetMovingImage(moving_image)\n",
    "    transformixImageFilter.ComputeDeformationFieldOn()\n",
    "    transformixImageFilter.SetComputeDeformationField(True)\n",
    "    transformixImageFilter.Execute()\n",
    "    return transformixImageFilter"
   ]
  },
  {
   "cell_type": "code",
   "execution_count": null,
   "id": "4c9677a0",
   "metadata": {},
   "outputs": [],
   "source": [
    "transformix_dfield = displacement_field(elastix_sequence.GetTransformParameterMap())\n",
    "sitk.WriteImage(transformix_dfield.GetDeformationField(), '../sampleImages/displacement_field.nrrd')"
   ]
  }
 ],
 "metadata": {
  "kernelspec": {
   "display_name": "Python 3 (ipykernel)",
   "language": "python",
   "name": "python3"
  },
  "language_info": {
   "codemirror_mode": {
    "name": "ipython",
    "version": 3
   },
   "file_extension": ".py",
   "mimetype": "text/x-python",
   "name": "python",
   "nbconvert_exporter": "python",
   "pygments_lexer": "ipython3",
   "version": "3.10.12"
  }
 },
 "nbformat": 4,
 "nbformat_minor": 5
}
