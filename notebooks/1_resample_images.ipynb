{
 "cells": [
  {
   "cell_type": "markdown",
   "id": "65eaacb9",
   "metadata": {},
   "source": [
    "# Resampling images\n",
    "\n",
    "This notebook emphasizes that images that are sampled differently can be in the same physical\n",
    "coordinate system, as long as their metadata are correctly set, and interpreted correctly.\n",
    "\n",
    "\n",
    "First import the packages we will use:"
   ]
  },
  {
   "cell_type": "code",
   "execution_count": null,
   "id": "1d647a85",
   "metadata": {},
   "outputs": [],
   "source": [
    "import numpy as np\n",
    "import SimpleITK as sitk\n",
    "\n",
    "from skimage.transform import rescale, resize, downscale_local_mean"
   ]
  },
  {
   "cell_type": "markdown",
   "id": "80ef6a7d",
   "metadata": {},
   "source": [
    "Next we'll define a two functions that resample images in two different ways.\n",
    "\n",
    "The first uses SimpleITK, the second uses scikit-image\n",
    "\n",
    "Read through the comments for both functions, and get an idea for what both are doing.\n",
    "It is not critical to understand the details, but is important to understand generally\n",
    "what they do, and how changing the parameters will affect the functions' output.\n"
   ]
  },
  {
   "cell_type": "code",
   "execution_count": null,
   "id": "0b318cd0",
   "metadata": {},
   "outputs": [],
   "source": [
    "def resample_img_itk(itk_image, factors=[4.0, 4.0, 4.0]):\n",
    "    \"\"\"\n",
    "    Resample with simple itk\n",
    "    see https://gist.github.com/mrajchl/ccbd5ed12eb68e0c1afc5da116af614a#file-resample_itk_image-py-L6\n",
    "\n",
    "    \n",
    "    \"\"\"\n",
    "\n",
    "    # The pixel spacing of the input image\n",
    "    original_spacing = itk_image.GetSpacing()\n",
    "    \n",
    "    # The size (number of pixels) of the original image\n",
    "    original_size = itk_image.GetSize()\n",
    "\n",
    "    # Compute the output size (number of pixels)\n",
    "    # using the original image's size and spacing, and the desired\n",
    "    # output pixel spacing\n",
    "    out_size = [\n",
    "        int(np.round(original_size[0] / factors[0])),\n",
    "        int(np.round(original_size[1] / factors[1])),\n",
    "        int(np.round(original_size[2] / factors[2]))]\n",
    "    \n",
    "    out_spacing = [\n",
    "        original_spacing[0] * factors[0],\n",
    "        original_spacing[0] * factors[1],\n",
    "        original_spacing[0] * factors[2],\n",
    "    ]\n",
    "\n",
    "    # Set up the itk \"filter\" that will resample the image\n",
    "    resample = sitk.ResampleImageFilter()\n",
    "    \n",
    "    # These two are the most important parameters for this use case\n",
    "    # The desired pixel spacing of the output image\n",
    "    resample.SetOutputSpacing(out_spacing)\n",
    "    # The size (number of pixels) of the output image\n",
    "    resample.SetSize(out_size)\n",
    "    \n",
    "    # The options below are less important (for this particular use-case)\n",
    "    resample.SetOutputDirection(itk_image.GetDirection())\n",
    "    resample.SetOutputOrigin(itk_image.GetOrigin())\n",
    "    resample.SetTransform(sitk.Transform()) # This uses the identity transform\n",
    "    resample.SetDefaultPixelValue(itk_image.GetPixelIDValue())\n",
    "\n",
    "    # Set the interpolation method.\n",
    "    # Another option is: sitk.sitkNearestNeighbor\n",
    "    resample.SetInterpolator(sitk.sitkBSpline)\n",
    "\n",
    "    return resample.Execute(itk_image)\n",
    "\n",
    "def resample_arr_skimg(np_array, in_spacing=[1.0,1.0,1.0], factors=[4,4,4]):\n",
    "    \"\"\"\n",
    "    Use downsample_local_mean from scikit-image to resample a numpy array.\n",
    "    \n",
    "    Since numpy array don't store anything about physical coordinates,\n",
    "    in_spacing argument tells it what the physical spacing of the input is.\n",
    "    \n",
    "    Note this function only accepts integer values for the factors\n",
    "    \"\"\"\n",
    "    return downscale_local_mean(np_array, tuple(factors), cval=0.0)\n",
    "\n",
    "def resample_skimg(img, factors=[4,4,4]):\n",
    "    \"\"\"\n",
    "    Use downsample_local_mean from scikit-image to resample a simple-itk image.\n",
    "    \n",
    "    Since numpy array don't store anything about physical coordinates,\n",
    "    in_spacing argument tells it what the physical spacing of the input is.\n",
    "    \n",
    "    Note this function only accepts integer values for the factors\n",
    "    \"\"\"\n",
    "    np_arr = sitk.GetArrayFromImage( img )\n",
    "    in_spacing = img.GetSpacing()\n",
    "    \n",
    "    out_spacing = np.array(in_spacing) * np.array(factors)\n",
    "    img_downsampled = downscale_local_mean(np_arr, tuple(factors), cval=0.0)\n",
    "    itk_image = sitk.GetImageFromArray(img_downsampled.astype(np_arr.dtype))\n",
    "    itk_image.SetOrigin((0, 0, 0))\n",
    "    itk_image.SetSpacing(out_spacing)\n",
    "    return itk_image"
   ]
  },
  {
   "cell_type": "markdown",
   "id": "a9bf460d",
   "metadata": {},
   "source": [
    "## Quiz\n",
    "\n",
    "If we have an image (`img`) of size (in pixels) `(60,60,60)`, what will be the size\n",
    "of `result1`?\n",
    "\n",
    "``` \n",
    "result1 = resample_arr_skimg( img, factors=[3,3,3])\n",
    "```\n",
    "\n",
    "What will be the size of `result2`?\n",
    "\n",
    "```\n",
    "result2 = resample_arr_skimg( img, factors=[2,5,6])\n",
    "```\n",
    "\n",
    "Test your knowlege! Uncomment the cell below, run it, and check your result."
   ]
  },
  {
   "cell_type": "code",
   "execution_count": null,
   "id": "2eb19a7d",
   "metadata": {},
   "outputs": [],
   "source": [
    "# img = np.zeros([60,60,60])\n",
    "# result1 = resample_arr_skimg( img, factors=[3,3,3])\n",
    "# print( result1.shape )\n",
    "# result2 = resample_arr_skimg( img, factors=[2,5,6])\n",
    "# print( result2.shape )"
   ]
  },
  {
   "cell_type": "code",
   "execution_count": null,
   "id": "87031ceb",
   "metadata": {},
   "outputs": [],
   "source": [
    "# Downsample jrc2018\n",
    "factors = [4,4,4]\n",
    "jrc18_path='../sampleImages/JRC2018_FEMALE_38um_iso_16bit.nrrd'\n",
    "print('loading')\n",
    "jrc18 = sitk.ReadImage(jrc18_path)\n",
    "print( 'original spacing ', jrc18.GetSpacing())\n",
    "\n",
    "print('downsampling')\n",
    "# this spacing is equivalent to 4x downsampling\n",
    "jrc18_down = resample_img_itk( jrc18, factors=factors)\n",
    "print( 'new spacing ', jrc18_down.GetSpacing())\n",
    "writer = sitk.ImageFileWriter()\n",
    "writer.SetFileName('../sampleImages/jrc18_down.nrrd')\n",
    "writer.Execute(jrc18_down)"
   ]
  },
  {
   "cell_type": "code",
   "execution_count": null,
   "id": "3a1c2609",
   "metadata": {},
   "outputs": [],
   "source": [
    "# Downsample jrc2018 using averaging\n",
    "\n",
    "jrc18_down_avg = resample_skimg( jrc18, factors=factors)\n",
    "writer = sitk.ImageFileWriter()\n",
    "writer.SetFileName('../sampleImages/jrc18_down_avg.nrrd')\n",
    "writer.Execute(jrc18_down_avg)"
   ]
  },
  {
   "cell_type": "markdown",
   "id": "9079479c",
   "metadata": {},
   "source": [
    "Now we have these three images in the `sampleImages` folder. \n",
    "\n",
    "* `JRC2018_FEMALE_38um_iso_16bit.nrrd`\n",
    "* `jrc18_down.nrrd`\n",
    "* `jrc18_down_avg.nrrd`\n",
    "\n",
    "Open them all in Fiji. It will be helpful to set the brightness and contrast for all images to reasonable values with:\n",
    "\n",
    "1. Set the brightness in contrast with `Image > Adjust > Brightness/Contrast` or `Ctrl + Shift + C`.\n",
    "2. Press `Auto`\n",
    "3. Press `Set`\n",
    "4. Check the box next to `Propagate to all other open images`\n",
    "5. Press `Ok`\n",
    "\n",
    "Next run BigDataViewer with `Plugins > BigDataViewer > Open Current Image`, check all three boxes, and press \"Ok\".\n",
    "\n",
    "By default, the images are overlayed.  Press `F` to turn off fused mode.  Now we're looking at one image at a time.  Cycle through the images by pressing `1`, `2`, and `3`.  The name of the image will be displayed at the top of the window.  Zoom in with the up-arrow.\n",
    "\n",
    "* First compare `JRC2018_FEMALE_38um_iso_16bit.nrrd` and `jrc18_down_avg.nrrd`\n",
    "* Next compare `JRC2018_FEMALE_38um_iso_16bit.nrrd` and `jrc18_down.nrrd`\n",
    "\n",
    "What do you notice?\n",
    "\n",
    "Finally, we'll also downsample another image because we will use the result later."
   ]
  },
  {
   "cell_type": "code",
   "execution_count": null,
   "id": "a614d6ac",
   "metadata": {},
   "outputs": [],
   "source": [
    "# Downsample jrc2010\n",
    "jrc10_path='../sampleImages/JFRCtemplate2010.nrrd'\n",
    "jrc10 = sitk.ReadImage(jrc10_path)\n",
    "\n",
    "jrc10_down = resample_skimg( jrc10, factors=factors)\n",
    "writer = sitk.ImageFileWriter()\n",
    "writer.SetFileName('../sampleImages/jrc10_down.nrrd')\n",
    "writer.Execute(jrc10_down)"
   ]
  },
  {
   "cell_type": "markdown",
   "id": "c0dbfa3c",
   "metadata": {},
   "source": [
    "## Bonus : upsample\n",
    "\n",
    "`resample_img_itk` can up-sample images too (factors can be less than one).\n",
    "\n",
    "Change the value of `up_factors` below so that the image size is `(300, 150, 80)`.  What is the resulting spacing?"
   ]
  },
  {
   "cell_type": "code",
   "execution_count": null,
   "id": "387cd875",
   "metadata": {},
   "outputs": [],
   "source": [
    "up_factors = [1,1,1] # EDIT ME\n",
    "jrc18_mid = resample_img_itk( jrc18_down, factors=up_factors)\n",
    "print( jrc18_mid.GetSize() )\n",
    "print( jrc18_mid.GetSpacing() )"
   ]
  },
  {
   "cell_type": "markdown",
   "id": "9fe26d31",
   "metadata": {},
   "source": [
    "## Bonus (optional, advanced?):\n",
    "\n",
    "(I don't know how hard this is)\n",
    "\n",
    "Explain what causes the difference between `jrc18_down.nrrd` and `jrc18_down_avg.nrrd`.\n",
    "\n",
    "It is possible to account for this difference with metadata. How?"
   ]
  }
 ],
 "metadata": {
  "kernelspec": {
   "display_name": "Python 3 (ipykernel)",
   "language": "python",
   "name": "python3"
  },
  "language_info": {
   "codemirror_mode": {
    "name": "ipython",
    "version": 3
   },
   "file_extension": ".py",
   "mimetype": "text/x-python",
   "name": "python",
   "nbconvert_exporter": "python",
   "pygments_lexer": "ipython3",
   "version": "3.10.12"
  }
 },
 "nbformat": 4,
 "nbformat_minor": 5
}
