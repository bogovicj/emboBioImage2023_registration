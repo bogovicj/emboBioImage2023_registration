{
 "cells": [
  {
   "cell_type": "code",
   "execution_count": null,
   "id": "02de8108",
   "metadata": {},
   "outputs": [],
   "source": [
    "import SimpleITK as sitk\n",
    "\n",
    "import itkwidgets\n",
    "from itkwidgets import view\n",
    "\n",
    "def print_parameters(elastix_parameters):\n",
    "    for k,v in elastix_parameters.iteritems():\n",
    "        print(f'{k} \\n\\t {v}')\n",
    "        \n",
    "def run_elastix(fixed_image, moving_image, params):\n",
    "    elastixImageFilter = sitk.ElastixImageFilter()\n",
    "    elastixImageFilter.SetFixedImage(fixed_image)\n",
    "    elastixImageFilter.SetMovingImage(moving_image)\n",
    "    elastixImageFilter.SetParameterMap(params)\n",
    "    elastixImageFilter.Execute()\n",
    "    return elastixImageFilter"
   ]
  },
  {
   "cell_type": "markdown",
   "id": "c3b7bf38",
   "metadata": {},
   "source": [
    "##  Translate the ct image by a large amount and see if we can recover the offset using registration."
   ]
  },
  {
   "cell_type": "code",
   "execution_count": null,
   "id": "1128034b",
   "metadata": {},
   "outputs": [],
   "source": [
    "fixedImage = sitk.ReadImage('sampleImages/ct_2d_moving.tif')\n",
    "movingImage= sitk.ReadImage('sampleImages/ct_translated.tif')"
   ]
  },
  {
   "cell_type": "markdown",
   "id": "0488050e",
   "metadata": {},
   "source": [
    "Mouse over the images below, looking at the \"Position\" displayed at the bottom. Pick a point that you can find in both images, and make note of its position. \n",
    "\n",
    "* What do you think the correct translation is?"
   ]
  },
  {
   "cell_type": "code",
   "execution_count": null,
   "id": "0a295885",
   "metadata": {},
   "outputs": [],
   "source": [
    "itkwidgets.compare(movingImage,fixedImage)"
   ]
  },
  {
   "cell_type": "markdown",
   "id": "ba31c322",
   "metadata": {},
   "source": [
    "Let's first try running registration with default parameters for 'translation'."
   ]
  },
  {
   "cell_type": "code",
   "execution_count": null,
   "id": "b13eb921",
   "metadata": {},
   "outputs": [],
   "source": [
    "params = sitk.ReadParameterFile('elastixParameters/AffineMI_2d.txt')\n",
    "sitk.PrintParameterMap( params )"
   ]
  },
  {
   "cell_type": "code",
   "execution_count": null,
   "id": "adca1ff5",
   "metadata": {},
   "outputs": [],
   "source": [
    "elastixImageFilter = run_elastix(fixedImage, movingImage, params)\n",
    "transformedMovingImage = elastixImageFilter.GetResultImage()"
   ]
  },
  {
   "cell_type": "code",
   "execution_count": null,
   "id": "72e92b48",
   "metadata": {},
   "outputs": [],
   "source": [
    "itkwidgets.compare(transformedMovingImage,fixedImage)"
   ]
  },
  {
   "cell_type": "code",
   "execution_count": null,
   "id": "1869245a",
   "metadata": {},
   "outputs": [],
   "source": [
    "params = sitk.GetDefaultParameterMap('translation')\n",
    "params['MaximumNumberOfIterations'] = ['2000']\n",
    "sitk.PrintParameterMap(params)"
   ]
  },
  {
   "cell_type": "code",
   "execution_count": null,
   "id": "a6a00b32",
   "metadata": {},
   "outputs": [],
   "source": [
    "elastixImageFilter = run_elastix(fixedImage, movingImage, params)\n",
    "transformedMovingImage = elastixImageFilter.GetResultImage()"
   ]
  },
  {
   "cell_type": "code",
   "execution_count": null,
   "id": "5624ffa3",
   "metadata": {},
   "outputs": [],
   "source": [
    "itkwidgets.compare(transformedMovingImage,fixedImage)"
   ]
  },
  {
   "cell_type": "code",
   "execution_count": null,
   "id": "1ee13336",
   "metadata": {},
   "outputs": [],
   "source": [
    "params['MaximumNumberOfIterations'] = ['128']\n",
    "params['AutomaticTransformInitialization'] = ['true']\n",
    "params['AutomaticTransformInitializationMethod'] = ['CenterOfGravity']\n",
    "sitk.PrintParameterMap(params)"
   ]
  },
  {
   "cell_type": "code",
   "execution_count": null,
   "id": "3bd5ef12",
   "metadata": {},
   "outputs": [],
   "source": [
    "elastixImageFilter = run_elastix(fixedImage, movingImage, params)\n",
    "transformedMovingImage = elastixImageFilter.GetResultImage()"
   ]
  },
  {
   "cell_type": "code",
   "execution_count": null,
   "id": "693b3137",
   "metadata": {},
   "outputs": [],
   "source": [
    "itkwidgets.compare(transformedMovingImage,fixedImage)"
   ]
  },
  {
   "cell_type": "markdown",
   "id": "c3cc43aa",
   "metadata": {},
   "source": [
    "The lines below will print the translation of the moving image to match the fixed image.\n",
    "\n",
    "* Predict what the translation will be"
   ]
  },
  {
   "cell_type": "code",
   "execution_count": null,
   "id": "222fb8a8",
   "metadata": {},
   "outputs": [],
   "source": [
    "transformation = elastixImageFilter.GetTransformParameterMap()\n",
    "transformation[0]['TransformParameters']"
   ]
  },
  {
   "cell_type": "markdown",
   "id": "297edee6",
   "metadata": {},
   "source": [
    "* Does the output match your prediction? \n",
    "* If no, why?"
   ]
  }
 ],
 "metadata": {
  "kernelspec": {
   "display_name": "Python 3 (ipykernel)",
   "language": "python",
   "name": "python3"
  },
  "language_info": {
   "codemirror_mode": {
    "name": "ipython",
    "version": 3
   },
   "file_extension": ".py",
   "mimetype": "text/x-python",
   "name": "python",
   "nbconvert_exporter": "python",
   "pygments_lexer": "ipython3",
   "version": "3.10.12"
  }
 },
 "nbformat": 4,
 "nbformat_minor": 5
}
