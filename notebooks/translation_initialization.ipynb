{
 "cells": [
  {
   "cell_type": "markdown",
   "id": "618d81bc",
   "metadata": {},
   "source": [
    "# Elastix\n",
    "\n",
    "In this notebook, we will learn the basics of [elastix](https://elastix.lumc.nl/), the image registration software we will use in this course. You can find the documentation for SimpleElastix (the python wrapper for elastix), [here](https://simpleelastix.readthedocs.io/index.html).\n",
    "\n",
    "\n",
    "First read through the function `run_elastix` below. It mirrors closely [this example from the SimpleElastix documentation](https://simpleelastix.readthedocs.io/HelloWorld.html#object-oriented-interface).  It is not necessary to understand the details.\n",
    "\n",
    "In this notebook, we will begin to look at some of the different parameters we can give to elastix, and their effects.  This will be the focus of the course. You can read more about the parameter maps [here](https://simpleelastix.readthedocs.io/ParameterMaps.html)."
   ]
  },
  {
   "cell_type": "code",
   "execution_count": null,
   "id": "02de8108",
   "metadata": {},
   "outputs": [],
   "source": [
    "import SimpleITK as sitk\n",
    "\n",
    "import itkwidgets\n",
    "from itkwidgets import view\n",
    "\n",
    "def run_elastix(fixed_image, moving_image, params):\n",
    "    \"\"\"\n",
    "    Runs elastix with the given fixed and moving images,\n",
    "    and elastix parameters.\n",
    "    \n",
    "    Returns the ElastixImageFilter, from which the results\n",
    "    can be obtained.\n",
    "    \"\"\"\n",
    "    \n",
    "    # Make the image filter \n",
    "    elastixImageFilter = sitk.ElastixImageFilter()\n",
    "    \n",
    "    # Set the moving and fixed images\n",
    "    elastixImageFilter.SetFixedImage(fixed_image)\n",
    "    elastixImageFilter.SetMovingImage(moving_image)\n",
    "    \n",
    "    # Set the parameters\n",
    "    elastixImageFilter.SetParameterMap(params)\n",
    "    \n",
    "    # Run it\n",
    "    elastixImageFilter.Execute()\n",
    "    \n",
    "    # Return the filter\n",
    "    # It's posible to get the results from the filter\n",
    "    return elastixImageFilter"
   ]
  },
  {
   "cell_type": "markdown",
   "id": "c3b7bf38",
   "metadata": {},
   "source": [
    "##  Goal\n",
    "\n",
    "In this notebook, we will use an example computed tomography (CT) image.  I've artificially translated it by a large amount, and saved the result in the file `ct_translated.tif`. The goal of this notebook is to find that translation, using image registration.\n",
    "\n",
    "First let's load the images. The function `sitk.ReadImage` loads an imaage from a file."
   ]
  },
  {
   "cell_type": "code",
   "execution_count": null,
   "id": "1128034b",
   "metadata": {},
   "outputs": [],
   "source": [
    "fixedImage = sitk.ReadImage('../sampleImages/ct_2d_moving.tif')\n",
    "movingImage= sitk.ReadImage('../sampleImages/ct_translated.tif')"
   ]
  },
  {
   "cell_type": "markdown",
   "id": "31aa081b",
   "metadata": {},
   "source": [
    "Let's visualize the images with another helpful library: [itkwidgets](https://itkwidgets.readthedocs.io/en/latest/)\n",
    "\n",
    "The function `itkwidgets.compare` displays two images side-by-side. Run the cell below.  \n",
    "\n",
    "Note: click the triple bar (or \"hamburger\" icon in the top left of each window to minimize the settings panel."
   ]
  },
  {
   "cell_type": "code",
   "execution_count": null,
   "id": "5c0dd5c0",
   "metadata": {},
   "outputs": [],
   "source": [
    "itkwidgets.compare(movingImage,fixedImage)"
   ]
  },
  {
   "cell_type": "markdown",
   "id": "e9b9e038",
   "metadata": {},
   "source": [
    "Mouse over the images above, looking at the \"Position\" displayed at the bottom. Pick a point that you can find in both images, and make note of the positions. \n",
    "\n",
    "* What do you think the correct translation is?\n",
    "\n",
    "Elastix has default sets of parameters for different transformation types that we can get with the function `sitk.GetDefaultParameterMap`. In this example we will use the `'translation'` transformation type."
   ]
  },
  {
   "cell_type": "code",
   "execution_count": null,
   "id": "1869245a",
   "metadata": {},
   "outputs": [],
   "source": [
    "params = sitk.GetDefaultParameterMap('translation')\n",
    "sitk.PrintParameterMap(params)"
   ]
  },
  {
   "cell_type": "markdown",
   "id": "0d26684e",
   "metadata": {},
   "source": [
    "There are lots of options, but focus on these:\n",
    "\n",
    "* `(Transform \"TranslationTransform\")`\n",
    "    * elastix will find a translation\n",
    "* `(NumberOfResolutions 4.000000)`\n",
    "    * there are four resolution levels\n",
    "* `(MaximumNumberOfIterations 256.000000)`\n",
    "    * elastix will run a maximum of 256 iterations at each resolution level\n",
    "* `(AutomaticTransformInitialization \"true\")`\n",
    "    * After you run elastix, look for the text `Transform parameters are initialized as:` to see what happened\n",
    "    * read about how this works [here](https://elastix.lumc.nl/doxygen/classelastix_1_1TranslationTransformElastix.html)\n",
    "    \n",
    "Now let's run elastix using these parameters with the functino `run_elastix` we defined above.\n",
    "\n",
    "Then we get the transformed moving image with `elastixImageFilter.GetResultImage()` and visualize the results again with `itkwidgets.compare`"
   ]
  },
  {
   "cell_type": "code",
   "execution_count": null,
   "id": "adca1ff5",
   "metadata": {},
   "outputs": [],
   "source": [
    "elastixImageFilter = run_elastix(fixedImage, movingImage, params)\n",
    "transformedMovingImage = elastixImageFilter.GetResultImage()"
   ]
  },
  {
   "cell_type": "code",
   "execution_count": null,
   "id": "72e92b48",
   "metadata": {},
   "outputs": [],
   "source": [
    "itkwidgets.compare(transformedMovingImage,fixedImage)"
   ]
  },
  {
   "cell_type": "markdown",
   "id": "c1cde323",
   "metadata": {},
   "source": [
    "Notice that the images are not well registered.  The moving image moved in the right direction, but did not go far enough. Sometimes, this is because the algorithm stops too early - i.e. did not run for enough iterations.  Let's increase the number of iterations to see if that helps.\n",
    "\n",
    "We'll set the number of iterations to `2000`, which is about 8x more than our previous run.\n",
    "\n",
    "Note: for technical reasons we have to to set the number of iterations with a list containing a string like this `['2000']`, but details are not important.\n",
    "\n",
    "After running the cell below, check that the `MaximumNumberOfIterations` are `2000` as we want."
   ]
  },
  {
   "cell_type": "code",
   "execution_count": null,
   "id": "1452e684",
   "metadata": {},
   "outputs": [],
   "source": [
    "params_more_iterations = sitk.GetDefaultParameterMap('translation')\n",
    "params_more_iterations['MaximumNumberOfIterations'] = ['2000']\n",
    "sitk.PrintParameterMap(params_more_iterations)"
   ]
  },
  {
   "cell_type": "code",
   "execution_count": null,
   "id": "c9151241",
   "metadata": {},
   "outputs": [],
   "source": [
    "elastix_more_iterations = run_elastix(fixedImage, movingImage, params_more_iterations)\n",
    "result_more_iterations = elastix_more_iterations.GetResultImage()"
   ]
  },
  {
   "cell_type": "code",
   "execution_count": null,
   "id": "74a59478",
   "metadata": {},
   "outputs": [],
   "source": [
    "itkwidgets.compare(result_more_iterations,fixedImage)"
   ]
  },
  {
   "cell_type": "markdown",
   "id": "9a264f52",
   "metadata": {},
   "source": [
    "Observe these things:\n",
    "\n",
    "* It took longer for the algorithm to run\n",
    "* The resulting transformed image looks the same as before (adding more iterations didn't help)\n",
    "\n",
    "If you look through the output, you will some lines that look approximately like this:\n",
    "\n",
    "```\n",
    "1997\t-0.035259\t152.702935\t9.012013\t0.003789\t0.6\n",
    "1998\t-0.042390\t153.702593\t8.960445\t0.002874\t0.6\n",
    "1999\t-0.043482\t154.686703\t8.910253\t0.003916\t0.6\n",
    "Time spent in resolution 1 (ITK initialization and iterating): 1.135 s.\n",
    "Stopping condition: Maximum number of iterations has been reached.\n",
    "```\n",
    "\n",
    "The left-most number is the iteration count, and indicates that elastix did indeed run for 2000 iterations, and stopped because it reached the maximum number of iterations. \n",
    "\n",
    "Since that didn't help, let's try loading elastix parameters from a file using the function `sitk.ReadParameterFile`, and print them with `sitk.PrintParameterMap`:"
   ]
  },
  {
   "cell_type": "code",
   "execution_count": null,
   "id": "b13eb921",
   "metadata": {},
   "outputs": [],
   "source": [
    "params_affineMI = sitk.ReadParameterFile('../elastixParameters/AffineMI_2d.txt')\n",
    "sitk.PrintParameterMap( params_affineMI )"
   ]
  },
  {
   "cell_type": "markdown",
   "id": "1fc65fce",
   "metadata": {},
   "source": [
    "Notice this part of the parameters: `(Transform \"AffineTransform\")`, telling elastix to find an affine, and not just a translation.  Will this help?  Check the values of the other important parameters we've looked at:\n",
    "\n",
    "* `Transform`\n",
    "* `NumberOfResolutions`\n",
    "* `MaximumNumberOfIterations`\n",
    "* `AutomaticTransformInitialization`\n",
    "    * if not present defaults to \"false\"\n",
    "    \n",
    "Even though we don't have much intuition about these parameters yet, **make a prediction about whether this will perform better, worse, or the same compared to the previous**. Making and correctiong predictions is very helpful during learning!\n",
    "\n",
    "When you have a guess, run the two cells below to see what happens."
   ]
  },
  {
   "cell_type": "code",
   "execution_count": null,
   "id": "a6a00b32",
   "metadata": {},
   "outputs": [],
   "source": [
    "elastixImageFilter = run_elastix(fixedImage, movingImage, params_affineMI)\n",
    "result_affine_mi = elastixImageFilter.GetResultImage()"
   ]
  },
  {
   "cell_type": "code",
   "execution_count": null,
   "id": "5624ffa3",
   "metadata": {},
   "outputs": [],
   "source": [
    "itkwidgets.compare(result_affine_mi,fixedImage)"
   ]
  },
  {
   "cell_type": "markdown",
   "id": "41ebf3cf",
   "metadata": {},
   "source": [
    "What happened? [Click here](https://github.com/bogovicj/emboBioImage2023_registration/wiki/Spoiler-result-1) for an observation and explanation for the above result.\n",
    "\n",
    "Now we'll find a set of parameters that gives a good result."
   ]
  },
  {
   "cell_type": "code",
   "execution_count": null,
   "id": "1ee13336",
   "metadata": {},
   "outputs": [],
   "source": [
    "params_good = sitk.GetDefaultParameterMap('translation')\n",
    "params_good['AutomaticTransformInitialization'] = ['true']\n",
    "params_good['AutomaticTransformInitializationMethod'] = ['CenterOfGravity']\n",
    "params_good['MaximumNumberOfIterations'] = ['128']\n",
    "sitk.PrintParameterMap(params_good)"
   ]
  },
  {
   "cell_type": "code",
   "execution_count": null,
   "id": "3bd5ef12",
   "metadata": {},
   "outputs": [],
   "source": [
    "elastixImageFilter = run_elastix(fixedImage, movingImage, params_good)\n",
    "result_good = elastixImageFilter.GetResultImage()"
   ]
  },
  {
   "cell_type": "code",
   "execution_count": null,
   "id": "693b3137",
   "metadata": {},
   "outputs": [],
   "source": [
    "itkwidgets.compare(result_good,fixedImage)"
   ]
  },
  {
   "cell_type": "markdown",
   "id": "c3cc43aa",
   "metadata": {},
   "source": [
    "The lines below will print the translation of the moving image to match the fixed image, it will look like:\n",
    "\n",
    "```\n",
    "(tx, ty)\n",
    "```\n",
    "\n",
    "where `tx` is the translation in `x` (horizontal) and where `ty` is the translation in `y` (vertical).\n",
    "Note that the positive `y` direction points down.\n",
    "\n",
    "\n",
    "**Predict what the translation will be (Hint: remember the video lecture)**'\n",
    "\n",
    "After you've made a prediction, run the cell below to see the result."
   ]
  },
  {
   "cell_type": "code",
   "execution_count": null,
   "id": "222fb8a8",
   "metadata": {},
   "outputs": [],
   "source": [
    "transformation = elastixImageFilter.GetTransformParameterMap()\n",
    "transformation[0]['TransformParameters']"
   ]
  },
  {
   "cell_type": "markdown",
   "id": "297edee6",
   "metadata": {},
   "source": [
    "**Does the output match your prediction?**\n",
    "\n",
    "Explain the result, now that you see it (hint: remember the video lecture).\n",
    "\n",
    "\n",
    "After you've thought about it, [click here to check your explanation](https://github.com/bogovicj/emboBioImage2023_registration/wiki/Spoiler-2)."
   ]
  }
 ],
 "metadata": {
  "kernelspec": {
   "display_name": "Python 3 (ipykernel)",
   "language": "python",
   "name": "python3"
  },
  "language_info": {
   "codemirror_mode": {
    "name": "ipython",
    "version": 3
   },
   "file_extension": ".py",
   "mimetype": "text/x-python",
   "name": "python",
   "nbconvert_exporter": "python",
   "pygments_lexer": "ipython3",
   "version": "3.10.12"
  }
 },
 "nbformat": 4,
 "nbformat_minor": 5
}
