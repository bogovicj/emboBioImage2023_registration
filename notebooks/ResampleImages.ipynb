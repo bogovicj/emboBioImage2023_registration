{
 "cells": [
  {
   "cell_type": "markdown",
   "id": "65eaacb9",
   "metadata": {},
   "source": [
    "Downsampling examples"
   ]
  },
  {
   "cell_type": "code",
   "execution_count": 2,
   "id": "1d647a85",
   "metadata": {},
   "outputs": [],
   "source": [
    "import numpy as np\n",
    "import SimpleITK as sitk\n",
    "\n",
    "from skimage.transform import rescale, resize, downscale_local_mean"
   ]
  },
  {
   "cell_type": "code",
   "execution_count": 8,
   "id": "0b318cd0",
   "metadata": {},
   "outputs": [],
   "source": [
    "# Resample with simple itk\n",
    "# see https://gist.github.com/mrajchl/ccbd5ed12eb68e0c1afc5da116af614a#file-resample_itk_image-py-L6\n",
    "def resample_img_itk(itk_image, out_spacing=[2.0, 2.0, 2.0], nearest=False):\n",
    "    \n",
    "    original_spacing = itk_image.GetSpacing()\n",
    "    original_size = itk_image.GetSize()\n",
    "\n",
    "    out_size = [\n",
    "        int(np.round(original_size[0] * (original_spacing[0] / out_spacing[0]))),\n",
    "        int(np.round(original_size[1] * (original_spacing[1] / out_spacing[1]))),\n",
    "        int(np.round(original_size[2] * (original_spacing[2] / out_spacing[2])))]\n",
    "\n",
    "    resample = sitk.ResampleImageFilter()\n",
    "    resample.SetOutputSpacing(out_spacing)\n",
    "    resample.SetSize(out_size)\n",
    "    resample.SetOutputDirection(itk_image.GetDirection())\n",
    "    resample.SetOutputOrigin(itk_image.GetOrigin())\n",
    "    resample.SetTransform(sitk.Transform())\n",
    "    resample.SetDefaultPixelValue(itk_image.GetPixelIDValue())\n",
    "\n",
    "    if nearest:\n",
    "        resample.SetInterpolator(sitk.sitkNearestNeighbor)\n",
    "    else:\n",
    "        resample.SetInterpolator(sitk.sitkBSpline)\n",
    "\n",
    "    return resample.Execute(itk_image)\n",
    "\n",
    "# use downscale_local_mean from scikit-image\n",
    "def resample_arr_skimg(np_array, in_spacing=[1.0,1.0,1.0], factors=[4,4,4]):\n",
    "    out_spacing = np.array(in_spacing) * np.array(factors)\n",
    "    image_downscaled = downscale_local_mean(np_array, tuple(factors), cval=0.0)\n",
    "    itk_image = sitk.GetImageFromArray(image_downscaled)\n",
    "    itk_image.SetOrigin((0, 0, 0))\n",
    "    itk_image.SetSpacing(out_spacing)\n",
    "    return itk_image"
   ]
  },
  {
   "cell_type": "code",
   "execution_count": 4,
   "id": "87031ceb",
   "metadata": {},
   "outputs": [],
   "source": [
    "# Downsample jrc2018\n",
    "jrc18_path='sampleImages/JRC2018_FEMALE_38um_iso_16bit.nrrd'\n",
    "jrc18 = sitk.ReadImage(jrc18_path)\n",
    "jrc18.GetSpacing()\n",
    "\n",
    "# this spacing is equivalent to 4x downsampling\n",
    "jrc18_down = resample_img_itk( jrc18, out_spacing=[1.52,1.52,1.52])\n",
    "writer = sitk.ImageFileWriter()\n",
    "writer.SetFileName('sampleImages/jrc18_down.nrrd')\n",
    "writer.Execute(jrc18_down)"
   ]
  },
  {
   "cell_type": "code",
   "execution_count": 9,
   "id": "3a1c2609",
   "metadata": {},
   "outputs": [],
   "source": [
    "# Downsample jrc2018 using local mean\n",
    "factors = [4,4,4]\n",
    "in_spacing = jrc18.GetSpacing()\n",
    "ski_down = resample_arr_skimg( sitk.GetArrayFromImage( jrc18 ).astype(np.float32), in_spacing=in_spacing, factors=factors)\n",
    "\n",
    "writer = sitk.ImageFileWriter()\n",
    "writer.SetFileName('sampleImages/jrc18_down_avg.nrrd')\n",
    "writer.Execute(ski_down)"
   ]
  },
  {
   "cell_type": "markdown",
   "id": "9079479c",
   "metadata": {},
   "source": [
    "Now we have these three images in the `sampleImages` folder. Open them together in your favorite viewer (I'll use BigDataViewer)\n",
    "\n",
    "* `JRC2018_FEMALE_38um_iso_16bit.nrrd`\n",
    "* `jrc18_down.nrrd`\n",
    "* `jrc18_down_avg.nrrd`\n",
    "\n",
    "What do you notice?"
   ]
  },
  {
   "cell_type": "code",
   "execution_count": 6,
   "id": "6b57d485",
   "metadata": {},
   "outputs": [
    {
     "data": {
      "text/plain": [
       "(0.622088, 0.622088, 0.622088)"
      ]
     },
     "execution_count": 6,
     "metadata": {},
     "output_type": "execute_result"
    }
   ],
   "source": [
    "# Downsample jrc2010\n",
    "jrc10_path='sampleImages/JFRCtemplate2010.nrrd'\n",
    "jrc10 = sitk.ReadImage(jrc10_path)"
   ]
  },
  {
   "cell_type": "code",
   "execution_count": 7,
   "id": "a614d6ac",
   "metadata": {},
   "outputs": [],
   "source": [
    "# this spacing is equivalent to 4x downsampling\n",
    "jrc10_down = resample_img_itk( jrc10, out_spacing=[2.488352,2.488352,2.488352])\n",
    "writer = sitk.ImageFileWriter()\n",
    "writer.SetFileName('jrc10_down.nrrd')\n",
    "writer.Execute(jrc10_down)"
   ]
  }
 ],
 "metadata": {
  "kernelspec": {
   "display_name": "Python 3 (ipykernel)",
   "language": "python",
   "name": "python3"
  },
  "language_info": {
   "codemirror_mode": {
    "name": "ipython",
    "version": 3
   },
   "file_extension": ".py",
   "mimetype": "text/x-python",
   "name": "python",
   "nbconvert_exporter": "python",
   "pygments_lexer": "ipython3",
   "version": "3.10.12"
  }
 },
 "nbformat": 4,
 "nbformat_minor": 5
}
